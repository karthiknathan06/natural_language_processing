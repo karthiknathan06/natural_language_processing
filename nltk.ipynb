{
 "cells": [
  {
   "cell_type": "code",
   "execution_count": 117,
   "metadata": {},
   "outputs": [],
   "source": [
    "#My NLP course using python nltk\n",
    "import nltk"
   ]
  },
  {
   "cell_type": "code",
   "execution_count": 2,
   "metadata": {},
   "outputs": [
    {
     "name": "stdout",
     "output_type": "stream",
     "text": [
      "showing info https://raw.githubusercontent.com/nltk/nltk_data/gh-pages/index.xml\n"
     ]
    },
    {
     "data": {
      "text/plain": [
       "True"
      ]
     },
     "execution_count": 2,
     "metadata": {},
     "output_type": "execute_result"
    }
   ],
   "source": [
    "nltk.download()"
   ]
  },
  {
   "cell_type": "code",
   "execution_count": 3,
   "metadata": {},
   "outputs": [
    {
     "name": "stdout",
     "output_type": "stream",
     "text": [
      "[nltk_data] Downloading package gutenberg to\n",
      "[nltk_data]     C:\\Users\\Lenovo\\AppData\\Roaming\\nltk_data...\n",
      "[nltk_data]   Package gutenberg is already up-to-date!\n"
     ]
    },
    {
     "data": {
      "text/plain": [
       "True"
      ]
     },
     "execution_count": 3,
     "metadata": {},
     "output_type": "execute_result"
    }
   ],
   "source": [
    "#methods of accesing corpus\n",
    "from nltk.corpus import gutenberg\n",
    "nltk.download('gutenberg')"
   ]
  },
  {
   "cell_type": "code",
   "execution_count": 4,
   "metadata": {},
   "outputs": [
    {
     "data": {
      "text/plain": [
       "['austen-emma.txt',\n",
       " 'austen-persuasion.txt',\n",
       " 'austen-sense.txt',\n",
       " 'bible-kjv.txt',\n",
       " 'blake-poems.txt',\n",
       " 'bryant-stories.txt',\n",
       " 'burgess-busterbrown.txt',\n",
       " 'carroll-alice.txt',\n",
       " 'chesterton-ball.txt',\n",
       " 'chesterton-brown.txt',\n",
       " 'chesterton-thursday.txt',\n",
       " 'edgeworth-parents.txt',\n",
       " 'melville-moby_dick.txt',\n",
       " 'milton-paradise.txt',\n",
       " 'shakespeare-caesar.txt',\n",
       " 'shakespeare-hamlet.txt',\n",
       " 'shakespeare-macbeth.txt',\n",
       " 'whitman-leaves.txt']"
      ]
     },
     "execution_count": 4,
     "metadata": {},
     "output_type": "execute_result"
    }
   ],
   "source": [
    "gutenberg.fileids()"
   ]
  },
  {
   "cell_type": "code",
   "execution_count": 5,
   "metadata": {},
   "outputs": [
    {
     "data": {
      "text/plain": [
       "'[The King James Bible]\\n\\nThe Old Testament of the King James Bible\\n\\nThe First Book of Moses:  Called '"
      ]
     },
     "execution_count": 5,
     "metadata": {},
     "output_type": "execute_result"
    }
   ],
   "source": [
    "#using raw method\n",
    "bible=gutenberg.raw('bible-kjv.txt')\n",
    "bible[:100]"
   ]
  },
  {
   "cell_type": "code",
   "execution_count": 6,
   "metadata": {},
   "outputs": [
    {
     "data": {
      "text/plain": [
       "['[', 'The', 'King', 'James', 'Bible', ']', 'The', 'Old', 'Testament', 'of']"
      ]
     },
     "execution_count": 6,
     "metadata": {},
     "output_type": "execute_result"
    }
   ],
   "source": [
    "#using word\n",
    "words=gutenberg.words('bible-kjv.txt')\n",
    "words[:10]"
   ]
  },
  {
   "cell_type": "code",
   "execution_count": 7,
   "metadata": {},
   "outputs": [
    {
     "data": {
      "text/plain": [
       "['1',\n",
       " ':',\n",
       " '1',\n",
       " 'In',\n",
       " 'the',\n",
       " 'beginning',\n",
       " 'God',\n",
       " 'created',\n",
       " 'the',\n",
       " 'heaven',\n",
       " 'and',\n",
       " 'the',\n",
       " 'earth',\n",
       " '.']"
      ]
     },
     "execution_count": 7,
     "metadata": {},
     "output_type": "execute_result"
    }
   ],
   "source": [
    "#using sentences\n",
    "sentences=gutenberg.sents('bible-kjv.txt')\n",
    "sentences[3]"
   ]
  },
  {
   "cell_type": "code",
   "execution_count": 8,
   "metadata": {},
   "outputs": [
    {
     "name": "stdout",
     "output_type": "stream",
     "text": [
      "[nltk_data] Downloading package brown to\n",
      "[nltk_data]     C:\\Users\\Lenovo\\AppData\\Roaming\\nltk_data...\n",
      "[nltk_data]   Package brown is already up-to-date!\n"
     ]
    },
    {
     "data": {
      "text/plain": [
       "True"
      ]
     },
     "execution_count": 8,
     "metadata": {},
     "output_type": "execute_result"
    }
   ],
   "source": [
    "from nltk.corpus import brown\n",
    "nltk.download('brown')"
   ]
  },
  {
   "cell_type": "code",
   "execution_count": 9,
   "metadata": {},
   "outputs": [
    {
     "data": {
      "text/plain": [
       "['adventure',\n",
       " 'belles_lettres',\n",
       " 'editorial',\n",
       " 'fiction',\n",
       " 'government',\n",
       " 'hobbies',\n",
       " 'humor',\n",
       " 'learned',\n",
       " 'lore',\n",
       " 'mystery',\n",
       " 'news',\n",
       " 'religion',\n",
       " 'reviews',\n",
       " 'romance',\n",
       " 'science_fiction']"
      ]
     },
     "execution_count": 9,
     "metadata": {},
     "output_type": "execute_result"
    }
   ],
   "source": [
    "brown.categories()"
   ]
  },
  {
   "cell_type": "code",
   "execution_count": 10,
   "metadata": {},
   "outputs": [
    {
     "data": {
      "text/plain": [
       "['cr01', 'cr02', 'cr03', 'cr04', 'cr05', 'cr06', 'cr07', 'cr08', 'cr09']"
      ]
     },
     "execution_count": 10,
     "metadata": {},
     "output_type": "execute_result"
    }
   ],
   "source": [
    "brown.fileids(categories='humor')"
   ]
  },
  {
   "cell_type": "code",
   "execution_count": 11,
   "metadata": {},
   "outputs": [],
   "source": [
    "#frequency distribution\n",
    "from nltk import ConditionalFreqDist, FreqDist"
   ]
  },
  {
   "cell_type": "code",
   "execution_count": 12,
   "metadata": {},
   "outputs": [],
   "source": [
    "s='shoe shine shop. where she sits the shines and where sits shines'"
   ]
  },
  {
   "cell_type": "code",
   "execution_count": 13,
   "metadata": {},
   "outputs": [
    {
     "data": {
      "text/plain": [
       "['shoe',\n",
       " 'shine',\n",
       " 'shop.',\n",
       " 'where',\n",
       " 'she',\n",
       " 'sits',\n",
       " 'the',\n",
       " 'shines',\n",
       " 'and',\n",
       " 'where',\n",
       " 'sits',\n",
       " 'shines']"
      ]
     },
     "execution_count": 13,
     "metadata": {},
     "output_type": "execute_result"
    }
   ],
   "source": [
    "i=s.split()\n",
    "i"
   ]
  },
  {
   "cell_type": "code",
   "execution_count": 14,
   "metadata": {},
   "outputs": [],
   "source": [
    "fd=FreqDist(i)"
   ]
  },
  {
   "cell_type": "code",
   "execution_count": 15,
   "metadata": {},
   "outputs": [
    {
     "data": {
      "text/plain": [
       "FreqDist({'where': 2, 'sits': 2, 'shines': 2, 'shoe': 1, 'shine': 1, 'shop.': 1, 'she': 1, 'the': 1, 'and': 1})"
      ]
     },
     "execution_count": 15,
     "metadata": {},
     "output_type": "execute_result"
    }
   ],
   "source": [
    "fd"
   ]
  },
  {
   "cell_type": "code",
   "execution_count": 16,
   "metadata": {},
   "outputs": [
    {
     "data": {
      "text/plain": [
       "[('where', 2), ('sits', 2), ('shines', 2)]"
      ]
     },
     "execution_count": 16,
     "metadata": {},
     "output_type": "execute_result"
    }
   ],
   "source": [
    "fd.most_common(3)"
   ]
  },
  {
   "cell_type": "code",
   "execution_count": 17,
   "metadata": {},
   "outputs": [
    {
     "data": {
      "text/plain": [
       "21695"
      ]
     },
     "execution_count": 17,
     "metadata": {},
     "output_type": "execute_result"
    }
   ],
   "source": [
    "w=brown.words(categories='humor')\n",
    "len(w)"
   ]
  },
  {
   "cell_type": "code",
   "execution_count": 18,
   "metadata": {},
   "outputs": [],
   "source": [
    "freqdistribution=FreqDist(w)"
   ]
  },
  {
   "cell_type": "code",
   "execution_count": 19,
   "metadata": {},
   "outputs": [
    {
     "data": {
      "text/plain": [
       "[(',', 1331),\n",
       " ('the', 930),\n",
       " ('.', 877),\n",
       " ('of', 515),\n",
       " ('and', 512),\n",
       " ('a', 505),\n",
       " ('to', 463),\n",
       " ('``', 343),\n",
       " (\"''\", 340),\n",
       " ('in', 334)]"
      ]
     },
     "execution_count": 19,
     "metadata": {},
     "output_type": "execute_result"
    }
   ],
   "source": [
    "freqdistribution.most_common(10)"
   ]
  },
  {
   "cell_type": "code",
   "execution_count": 20,
   "metadata": {},
   "outputs": [
    {
     "data": {
      "text/plain": [
       "['Hinkle',\n",
       " 'fancying',\n",
       " 'marriages',\n",
       " 'listed',\n",
       " 'Mormon',\n",
       " 'Beard',\n",
       " 'instigation',\n",
       " 'fourth',\n",
       " 'victim',\n",
       " 'beard',\n",
       " 'secured',\n",
       " 'report',\n",
       " 'trail',\n",
       " 'Cal',\n",
       " 'gas',\n",
       " 'main',\n",
       " 'boulevards',\n",
       " 'attendants',\n",
       " 'Ye',\n",
       " 'Olde',\n",
       " 'Gasse',\n",
       " 'Filling',\n",
       " 'Station',\n",
       " 'Avocado',\n",
       " 'Avenue',\n",
       " 'paused',\n",
       " 'route',\n",
       " 'Diego',\n",
       " 'headed',\n",
       " 'direction',\n",
       " 'Juan',\n",
       " 'Capistrano',\n",
       " 'By-the-Sea',\n",
       " 'quaint',\n",
       " 'Spanish',\n",
       " 'Mission',\n",
       " 'Drive-in',\n",
       " 'eating',\n",
       " 'tamale',\n",
       " 'convertible',\n",
       " 'quest',\n",
       " 'stolen',\n",
       " 'rug',\n",
       " 'robe',\n",
       " 'pawnshop',\n",
       " 'Glendale',\n",
       " 'placed',\n",
       " 'informing',\n",
       " 'questioning',\n",
       " 'apprehended',\n",
       " 'larceny',\n",
       " 'suspect',\n",
       " 'murders',\n",
       " 'uncovered',\n",
       " 'meaningless',\n",
       " 'phrases',\n",
       " 'souls',\n",
       " 'detective',\n",
       " 'commenting',\n",
       " 'behavior',\n",
       " 'myriad',\n",
       " 'citizens',\n",
       " 'community',\n",
       " 'mentally',\n",
       " 'unhinged',\n",
       " 'harmless',\n",
       " 'awaiting',\n",
       " 'failed',\n",
       " 'endeavoring',\n",
       " 'wrists',\n",
       " 'fainted',\n",
       " 'sight',\n",
       " 'blood',\n",
       " 'authorities',\n",
       " 'significance',\n",
       " 'episode',\n",
       " 'offered',\n",
       " 'whisky',\n",
       " 'lifelong',\n",
       " 'teetotaler',\n",
       " 'vaulting',\n",
       " 'mayorship',\n",
       " 'escaped',\n",
       " 'possibly',\n",
       " 'thief',\n",
       " 'attempted',\n",
       " 'guilty',\n",
       " 'breaking',\n",
       " 'laws',\n",
       " 'opportunity',\n",
       " 'test',\n",
       " 'chat',\n",
       " 'stating',\n",
       " \"we've\",\n",
       " 'goods',\n",
       " \"It'll\",\n",
       " 'shifty',\n",
       " 'relentless',\n",
       " 'pursuit',\n",
       " 'confessing',\n",
       " 'dreamed',\n",
       " 'summoned',\n",
       " 'officials',\n",
       " 'chagrin',\n",
       " 'pooh-poohed',\n",
       " 'credulity',\n",
       " 'required',\n",
       " 'strength',\n",
       " 'bravado',\n",
       " 'daring',\n",
       " 'commit',\n",
       " 'Ridiculous',\n",
       " 'glint',\n",
       " 'lit',\n",
       " 'stiffened',\n",
       " 'rose',\n",
       " \"He'd\",\n",
       " 'queried',\n",
       " 'murdering',\n",
       " \"there's\",\n",
       " 'derision',\n",
       " 'organized',\n",
       " 'termed',\n",
       " 'Wild',\n",
       " 'Goose',\n",
       " 'Chase',\n",
       " 'incredible',\n",
       " 'committing',\n",
       " 'consisted',\n",
       " 'reporters',\n",
       " 'cameramen',\n",
       " 'matter-of-factness',\n",
       " 'attitude',\n",
       " 'directed',\n",
       " 'cortege',\n",
       " 'autos',\n",
       " 'Santa',\n",
       " 'Monica',\n",
       " 'Stopping',\n",
       " 'cars',\n",
       " 'fork',\n",
       " 'spot',\n",
       " 'shrub-covered',\n",
       " 'hills',\n",
       " 'indicated',\n",
       " 'Orders',\n",
       " 'dig',\n",
       " 'chortled',\n",
       " 'cracked',\n",
       " 'quibs',\n",
       " 'gibes',\n",
       " 'digging',\n",
       " 'edge',\n",
       " 'remarking',\n",
       " 'picnic',\n",
       " 'Said',\n",
       " 'Joking',\n",
       " 'gathered',\n",
       " 'thrusting',\n",
       " 'view',\n",
       " 'package',\n",
       " 'crudely',\n",
       " \"murderer's\",\n",
       " 'sport',\n",
       " 'shirts',\n",
       " 'fragment',\n",
       " \"victim's\",\n",
       " 'wild',\n",
       " 'elation',\n",
       " 'disclosures',\n",
       " 'reward',\n",
       " 'procedure',\n",
       " 'Justice',\n",
       " 'triumph',\n",
       " 'cahoots',\n",
       " 'drag',\n",
       " 'sensation',\n",
       " 'Every',\n",
       " 'scandal',\n",
       " 'copy',\n",
       " \"Marshall's\",\n",
       " 'pen',\n",
       " 'cynics',\n",
       " 'impatience',\n",
       " 'dramatic',\n",
       " 'devilish',\n",
       " 'cleverness',\n",
       " 'Multiple',\n",
       " 'Romances',\n",
       " 'Addict',\n",
       " 'Downfall',\n",
       " 'Film',\n",
       " 'Idol',\n",
       " 'willing',\n",
       " \"mayor's\",\n",
       " 'throne',\n",
       " 'studied',\n",
       " 'thwarted',\n",
       " 'sensed',\n",
       " 'overvaulting',\n",
       " 'desire',\n",
       " 'consciousness',\n",
       " 'entertained',\n",
       " 'aspirations',\n",
       " 'favors',\n",
       " 'luckier',\n",
       " 'chap',\n",
       " 'tracked',\n",
       " 'cocktail',\n",
       " 'downtown',\n",
       " 'urged',\n",
       " 'attend',\n",
       " 'gentlemen',\n",
       " 'majority',\n",
       " 'smoke',\n",
       " 'bottles',\n",
       " 'guests',\n",
       " 'Naturally',\n",
       " 'remain',\n",
       " 'leave',\n",
       " 'arrival',\n",
       " 'politeness',\n",
       " 'adjacent',\n",
       " 'refuge',\n",
       " 'vase',\n",
       " 'projecting',\n",
       " 'Fate',\n",
       " 'playful',\n",
       " 'impulse',\n",
       " 'overcame',\n",
       " 'unidentified',\n",
       " 'prank',\n",
       " 'insert',\n",
       " 'district',\n",
       " 'attorney',\n",
       " 'emerged',\n",
       " 'engagement',\n",
       " 'Culture',\n",
       " 'Forum',\n",
       " 'Spirit',\n",
       " 'Southland',\n",
       " 'president',\n",
       " 'forum',\n",
       " 'preside',\n",
       " 'brushed',\n",
       " 'arranged',\n",
       " 'painstakingly',\n",
       " 'selected',\n",
       " 'noting',\n",
       " 'footwear',\n",
       " 'dignity',\n",
       " 'mounted',\n",
       " 'rostrum',\n",
       " 'intellectuals',\n",
       " 'imagined',\n",
       " 'incident',\n",
       " 'aside',\n",
       " 'reflecting',\n",
       " 'wrecked',\n",
       " 'rested',\n",
       " 'culprit',\n",
       " 'vowed',\n",
       " 'actions',\n",
       " 'tragedies',\n",
       " 'commiserate',\n",
       " 'difficult',\n",
       " 'link',\n",
       " 'finds',\n",
       " 'association',\n",
       " 'invite',\n",
       " 'snobbishly',\n",
       " 'receive',\n",
       " 'Czarship',\n",
       " 'affected',\n",
       " 'values',\n",
       " 'reflected',\n",
       " 'glory',\n",
       " 'Angeles-Pasadena',\n",
       " 'scions',\n",
       " 'aristocratic',\n",
       " 'dominated',\n",
       " 'Budweisers',\n",
       " 'beer',\n",
       " 'derivation',\n",
       " 'Chalmers',\n",
       " 'underwear',\n",
       " 'Heinzes',\n",
       " 'forbears',\n",
       " 'founded',\n",
       " 'nationally',\n",
       " 'trade',\n",
       " 'pickles',\n",
       " 'hated',\n",
       " 'salons',\n",
       " 'aristocrats',\n",
       " 'seldom',\n",
       " 'remotely',\n",
       " 'connected',\n",
       " 'cinema',\n",
       " 'exclusive',\n",
       " 'midsts',\n",
       " 'King',\n",
       " 'Spain',\n",
       " 'Pickfair',\n",
       " 'Mary',\n",
       " 'Doug',\n",
       " 'beckoned',\n",
       " 'cross',\n",
       " 'barriers',\n",
       " 'separate',\n",
       " 'hoi-polloi',\n",
       " 'trump',\n",
       " 'matrimonial',\n",
       " 'opportunities',\n",
       " 'debs',\n",
       " 'educated',\n",
       " 'abroad',\n",
       " 'lenient',\n",
       " 'debutante',\n",
       " 'chi-chi',\n",
       " 'spend',\n",
       " 'cosy',\n",
       " 'chaperon',\n",
       " 'hotbed',\n",
       " 'gossip',\n",
       " 'precaution',\n",
       " 'whispered',\n",
       " 'alas',\n",
       " 'greeted',\n",
       " 'checked',\n",
       " 'apron',\n",
       " 'ladle',\n",
       " \"cook's\",\n",
       " 'preparing',\n",
       " 'proceedings',\n",
       " 'giblet',\n",
       " 'gravy',\n",
       " 'asparagus',\n",
       " 'peas',\n",
       " 'sprig',\n",
       " 'mint',\n",
       " 'creamed',\n",
       " 'onions',\n",
       " 'mashed',\n",
       " 'potatoes',\n",
       " 'prepared',\n",
       " 'cooked',\n",
       " 'Hamlet',\n",
       " 'faced',\n",
       " 'agony',\n",
       " \"Beige's\",\n",
       " 'tray',\n",
       " 'dish',\n",
       " 'ascending',\n",
       " 'scale',\n",
       " 'dressed',\n",
       " 'rang',\n",
       " 'instantly',\n",
       " \"Here's\",\n",
       " 'household',\n",
       " 'grandmother',\n",
       " 'field',\n",
       " 'magically',\n",
       " 'Miranda',\n",
       " 'twined',\n",
       " 'murmuring',\n",
       " 'endearments',\n",
       " 'climbed',\n",
       " 'clutched',\n",
       " 'claiming',\n",
       " 'immediate',\n",
       " 'grounds',\n",
       " 'Somehow',\n",
       " 'managing',\n",
       " 'cool',\n",
       " 'poised',\n",
       " \"Won't\",\n",
       " 'covered',\n",
       " 'mouthpiece',\n",
       " 'warmth',\n",
       " 'poise',\n",
       " 'crime',\n",
       " 'mostly',\n",
       " \"Devil's\",\n",
       " 'Island',\n",
       " 'remoter',\n",
       " 'reaches',\n",
       " 'Siberia',\n",
       " 'promised',\n",
       " 'illustrate',\n",
       " 'breathed',\n",
       " 'completed',\n",
       " 'recognizing',\n",
       " 'caller',\n",
       " 'resumed',\n",
       " 'everyday',\n",
       " 'Soon',\n",
       " 'interrupted',\n",
       " \"Jennie's\",\n",
       " 'holding',\n",
       " 'pretending',\n",
       " \"Miranda's\",\n",
       " 'dumping',\n",
       " 'sugar',\n",
       " 'bowl',\n",
       " 'screeches',\n",
       " 'thuds',\n",
       " 'giggles',\n",
       " 'Under',\n",
       " 'reasonably',\n",
       " 'remind',\n",
       " 'Hank',\n",
       " 'shrewdly',\n",
       " 'vacated',\n",
       " 'gainer',\n",
       " 'accepted',\n",
       " 'peace',\n",
       " 'quiet',\n",
       " 'carrying',\n",
       " 'Resolving',\n",
       " 'formidable',\n",
       " 'demanding',\n",
       " 'staring',\n",
       " 'dismay',\n",
       " 'woolgather',\n",
       " 'month',\n",
       " 'indebted',\n",
       " 'shop',\n",
       " 'dentist',\n",
       " 'plumber',\n",
       " 'sitter',\n",
       " 'choice',\n",
       " 'yellow',\n",
       " 'amazingly',\n",
       " 'expert',\n",
       " 'narrow',\n",
       " 'ties',\n",
       " 'lapels',\n",
       " 'swatches',\n",
       " \"men's\",\n",
       " 'editor',\n",
       " 'tremendous',\n",
       " 'circulation',\n",
       " 'Nebraska',\n",
       " 'Wyoming',\n",
       " 'heiress',\n",
       " 'cattle',\n",
       " 'baron',\n",
       " 'millionaire',\n",
       " 'bank',\n",
       " 'roll',\n",
       " 'dabbler',\n",
       " 'patronized',\n",
       " 'Greenwich',\n",
       " 'artists',\n",
       " 'awhile',\n",
       " 'decided',\n",
       " 'lavish',\n",
       " 'duly',\n",
       " 'recorded',\n",
       " 'newspapers',\n",
       " 'investigating',\n",
       " 'regions',\n",
       " 'suburbia',\n",
       " 'surrounding',\n",
       " 'schools',\n",
       " 'abundance',\n",
       " 'bound',\n",
       " 'dreary',\n",
       " 'housewives',\n",
       " 'dull',\n",
       " 'People',\n",
       " 'Who',\n",
       " 'Things',\n",
       " 'admired',\n",
       " 'escape',\n",
       " 'uneasiness',\n",
       " 'centuries-old',\n",
       " 'restored',\n",
       " 'guided',\n",
       " 'eminent',\n",
       " 'architect',\n",
       " 'updated',\n",
       " \"gourmet's\",\n",
       " 'dust',\n",
       " 'anywhere',\n",
       " 'blocks',\n",
       " 'block',\n",
       " 'adjusted',\n",
       " 'parents',\n",
       " 'consequences',\n",
       " 'considered',\n",
       " 'violently',\n",
       " 'nonconformist',\n",
       " 'filling',\n",
       " 'furniture',\n",
       " 'paintings',\n",
       " 'objects',\n",
       " 'expensive',\n",
       " 'necessarily',\n",
       " 'valuable',\n",
       " 'flaunted',\n",
       " 'independence',\n",
       " 'rebelling',\n",
       " 'colors',\n",
       " 'bright',\n",
       " 'pinks',\n",
       " 'plaids',\n",
       " 'vivid',\n",
       " 'stripes',\n",
       " 'wore',\n",
       " 'solid',\n",
       " 'unrelieved',\n",
       " 'blonde',\n",
       " 'strongly',\n",
       " 'SS.',\n",
       " 'dislike',\n",
       " 'perfect',\n",
       " 'actors',\n",
       " 'handed',\n",
       " 'fat',\n",
       " 'talent',\n",
       " 'competently',\n",
       " 'understatement',\n",
       " 'Practically',\n",
       " 'enthusiasm',\n",
       " 'discussing',\n",
       " 'reverence',\n",
       " \"Fran's\",\n",
       " 'Baccarat',\n",
       " 'Steuben',\n",
       " 'Madame',\n",
       " 'Alexander',\n",
       " 'wine',\n",
       " 'pot',\n",
       " 'marinated',\n",
       " 'brandy',\n",
       " \"Koussevitzky's\",\n",
       " 'cousin',\n",
       " 'intimate',\n",
       " 'puzzling',\n",
       " 'inhabitants',\n",
       " 'unreal',\n",
       " 'Besides',\n",
       " 'drowned',\n",
       " 'melted',\n",
       " 'marshmallows',\n",
       " 'minimum',\n",
       " 'ruefulness',\n",
       " 'souffle',\n",
       " 'collapsed',\n",
       " 'Anyone',\n",
       " 'knows',\n",
       " 'red-blooded',\n",
       " 'react',\n",
       " 'catastrophe',\n",
       " 'honest',\n",
       " 'yelled',\n",
       " 'slammed',\n",
       " 'valueless',\n",
       " 'astringency',\n",
       " 'Gwen',\n",
       " 'Cafritz',\n",
       " \"Francesca's\",\n",
       " 'Perle',\n",
       " 'Mesta',\n",
       " 'habitual',\n",
       " 'committee',\n",
       " 'chairmen',\n",
       " 'managed',\n",
       " 'elected',\n",
       " 'co-chairmen',\n",
       " 'equal',\n",
       " 'bosses',\n",
       " 'civic',\n",
       " 'launched',\n",
       " 'inseparable',\n",
       " 'fond',\n",
       " 'keen',\n",
       " 'rivals',\n",
       " 'leadership',\n",
       " 'bitterly',\n",
       " 'unfunnily',\n",
       " 'sarcastic',\n",
       " 'learning',\n",
       " 'drive',\n",
       " 'slick',\n",
       " 'golden',\n",
       " 'toast',\n",
       " 'ultra-modern',\n",
       " 'decoration',\n",
       " 'appointments',\n",
       " 'complement',\n",
       " 'raw',\n",
       " 'silk',\n",
       " 'matched',\n",
       " 'housepaint',\n",
       " 'shapeless',\n",
       " 'frozen',\n",
       " 'stick',\n",
       " 'distinguished',\n",
       " 'indistinguishable',\n",
       " 'communications',\n",
       " 'finite',\n",
       " 'developed',\n",
       " 'hair-trigger',\n",
       " 'deference',\n",
       " 'country-squirehood',\n",
       " 'missed',\n",
       " 'sincere',\n",
       " 'too-hearty',\n",
       " 'handclasp',\n",
       " 'urgent',\n",
       " 'acknowledged',\n",
       " 'introduction',\n",
       " 'pressing',\n",
       " 'gazed',\n",
       " 'misty-eyed',\n",
       " 'unadulterated',\n",
       " 'total',\n",
       " 'credited',\n",
       " 'leaping',\n",
       " 'cigarettes',\n",
       " 'plates',\n",
       " 'glasses',\n",
       " 'bake',\n",
       " 'shops',\n",
       " 'Sanitary',\n",
       " 'Bake',\n",
       " 'Shops',\n",
       " 'Pioneers',\n",
       " 'wondered',\n",
       " 'homesteads',\n",
       " 'odd',\n",
       " 'establish',\n",
       " 'suburban',\n",
       " 'off-duty',\n",
       " 'gardeners',\n",
       " 'parent-teacher',\n",
       " 'conferences',\n",
       " 'Mister',\n",
       " '$85,000',\n",
       " 'yearly',\n",
       " 'ingratiating',\n",
       " 'gracious',\n",
       " 'estimation',\n",
       " 'Daphne',\n",
       " 'du',\n",
       " 'Maurier',\n",
       " 'Reverently',\n",
       " 'opinions',\n",
       " 'prove',\n",
       " 'Becoming',\n",
       " 'lunchtime',\n",
       " 'tasks',\n",
       " 'plans',\n",
       " 'beds',\n",
       " 'maybe',\n",
       " 'remembered',\n",
       " 'banana',\n",
       " 'Bananas',\n",
       " 'shouted',\n",
       " 'supposed',\n",
       " 'cereal',\n",
       " 'dug',\n",
       " \"devil's-food\",\n",
       " 'icing',\n",
       " 'rule',\n",
       " 'garlic',\n",
       " 'stunned',\n",
       " 'dearth',\n",
       " 'thrills',\n",
       " 'Mama',\n",
       " 'providing',\n",
       " 'closed',\n",
       " 'stretched',\n",
       " 'forth',\n",
       " 'arms',\n",
       " 'Take',\n",
       " 'paradise',\n",
       " 'furious',\n",
       " 'unparalleled',\n",
       " 'intrusion',\n",
       " 'enterprise',\n",
       " 'dared',\n",
       " 'demand',\n",
       " 'snoop',\n",
       " 'disbursements',\n",
       " 'confidential',\n",
       " 'agreements',\n",
       " 'historic',\n",
       " 'three-hour',\n",
       " 'coast-to-coast',\n",
       " 'broadcast',\n",
       " 'Father',\n",
       " 'Coughlin',\n",
       " 'pre-empting',\n",
       " 'Merry-go-round',\n",
       " 'Bowes',\n",
       " 'shows',\n",
       " 'White',\n",
       " 'despot',\n",
       " 'yore',\n",
       " 'diary',\n",
       " 'raiding',\n",
       " 'larder',\n",
       " 'ransacking',\n",
       " 'lingerie',\n",
       " 'impassioned',\n",
       " 'civil',\n",
       " 'created',\n",
       " 'landslide',\n",
       " 'correspondence',\n",
       " 'sponsor',\n",
       " 'replacing',\n",
       " 'permanent',\n",
       " 'basis',\n",
       " 'defenseless',\n",
       " 'dictator',\n",
       " 'bold',\n",
       " 'banks',\n",
       " 'barbarian',\n",
       " 'hordes',\n",
       " 'Russian',\n",
       " 'Communism',\n",
       " 'Athens',\n",
       " 'mighty',\n",
       " 'sacking',\n",
       " 'despoiling',\n",
       " 'Bolshevistic',\n",
       " 'Soak',\n",
       " 'unspeakable',\n",
       " 'siege',\n",
       " 'lasting',\n",
       " 'announced',\n",
       " 'debt',\n",
       " 'excess',\n",
       " 'aloof',\n",
       " 'iniquitous',\n",
       " 'practices',\n",
       " 'paying',\n",
       " 'taxes',\n",
       " 'salary',\n",
       " 'legally',\n",
       " 'inherited',\n",
       " \"Morris'\",\n",
       " 'relict',\n",
       " 'bill',\n",
       " 'astronomical',\n",
       " 'proportions',\n",
       " 'fraction',\n",
       " 'hard-come-by',\n",
       " 'savings',\n",
       " 'reprimanded',\n",
       " 'radical',\n",
       " 'leftist',\n",
       " 'Republic',\n",
       " 'Yorker',\n",
       " 'Time',\n",
       " 'Christian',\n",
       " 'Monitor',\n",
       " 'citizen',\n",
       " 'declared',\n",
       " 'income',\n",
       " 'unconstitutional',\n",
       " 'litigation',\n",
       " 'costly',\n",
       " 'seemingly',\n",
       " 'fought',\n",
       " 'tigress',\n",
       " 'appealed',\n",
       " '1937',\n",
       " 'Roosevelt',\n",
       " 'henchmen',\n",
       " 'dirty',\n",
       " 'pack',\n",
       " 'highest',\n",
       " 'tribunal',\n",
       " 'land',\n",
       " 'defeat',\n",
       " 'Presidential',\n",
       " 'coercion',\n",
       " 'poisoning',\n",
       " 'courtiers',\n",
       " 'toadies',\n",
       " 'sycophants',\n",
       " 'bench',\n",
       " 'far-reaching',\n",
       " 'discourage',\n",
       " 'lawyer',\n",
       " 'Portia',\n",
       " 'unanimously',\n",
       " 'voted',\n",
       " 'Again',\n",
       " 'persona',\n",
       " 'grata',\n",
       " 'staunch',\n",
       " 'thinkers',\n",
       " 'jurisprudence',\n",
       " 'Charles',\n",
       " 'Evans',\n",
       " 'Hughes',\n",
       " 'limitations',\n",
       " 'exceeded',\n",
       " 'logic',\n",
       " 'litigant',\n",
       " 'Albert',\n",
       " 'Einstein',\n",
       " 'workings',\n",
       " \"woman's\",\n",
       " 'amaze',\n",
       " 'Ford',\n",
       " 'utterly',\n",
       " 'astounding',\n",
       " 'Heywood',\n",
       " 'Broun',\n",
       " 'Belle',\n",
       " 'thinker',\n",
       " 'Caligula',\n",
       " 'concede',\n",
       " 'foresight',\n",
       " 'patriotism',\n",
       " 'resemble',\n",
       " 'ancient',\n",
       " 'Babylon',\n",
       " 'Nineveh',\n",
       " 'costs',\n",
       " 'prohibitive',\n",
       " 'crippling',\n",
       " 'fines',\n",
       " 'addition',\n",
       " 'usurious',\n",
       " 'unpaid',\n",
       " 'debts',\n",
       " 'claimed',\n",
       " 'blow',\n",
       " 'Nor',\n",
       " 'Manny',\n",
       " 'notoriety',\n",
       " 'enemies',\n",
       " 'level',\n",
       " 'charges',\n",
       " 'reactionary',\n",
       " 'robber',\n",
       " 'baroness',\n",
       " 'traitor',\n",
       " 'Traitor',\n",
       " 'point',\n",
       " 'ere',\n",
       " 'Committee',\n",
       " 'Un-American',\n",
       " 'Activities',\n",
       " 'Minute',\n",
       " 'Women',\n",
       " 'Economic',\n",
       " 'Council',\n",
       " 'notable',\n",
       " 'watchdog',\n",
       " 'organizations',\n",
       " \"Hollywood's\",\n",
       " 'bulwark',\n",
       " 'communism',\n",
       " 'single-handedly',\n",
       " 'creeping',\n",
       " 'socialism',\n",
       " 'insuperable',\n",
       " 'Fascio-Communist',\n",
       " 'troops',\n",
       " 'NRA',\n",
       " 'PWA',\n",
       " 'WPA',\n",
       " 'CCC',\n",
       " 'twenty-two',\n",
       " 'mercenaries',\n",
       " 'employed',\n",
       " 'secretly',\n",
       " 'transparent',\n",
       " 'ruse',\n",
       " 'regular',\n",
       " 'checks',\n",
       " 'suffered',\n",
       " 'drastically',\n",
       " 'Even',\n",
       " 'genius',\n",
       " 'throwing',\n",
       " 'worth',\n",
       " 'expected',\n",
       " 'livelihood',\n",
       " 'imperilled',\n",
       " 'sweeping',\n",
       " 'distractions',\n",
       " 'conducive',\n",
       " 'Oscar',\n",
       " 'winning',\n",
       " 'performances',\n",
       " 'somehow',\n",
       " 'pressures',\n",
       " 'unflagging',\n",
       " 'effort',\n",
       " 'devotion',\n",
       " 'achieved',\n",
       " 'world-renowned',\n",
       " 'casting',\n",
       " 'vote',\n",
       " 'study',\n",
       " 'mile',\n",
       " 'thespians',\n",
       " 'forty',\n",
       " 'fifty',\n",
       " 'co-star',\n",
       " 'helpmate',\n",
       " 'patient',\n",
       " 'helpful',\n",
       " 'apologetic',\n",
       " 'indulged',\n",
       " 'outbursts',\n",
       " 'temperament',\n",
       " 'profanity',\n",
       " 'blaming',\n",
       " 'sulks',\n",
       " 'occasions',\n",
       " 'storming',\n",
       " 'finances',\n",
       " 'privileged',\n",
       " 'salted',\n",
       " 'servants',\n",
       " 'bills',\n",
       " 'tailor',\n",
       " 'Athletic',\n",
       " 'Club',\n",
       " 'gift',\n",
       " 'third',\n",
       " 'anniversary',\n",
       " 'dislocated',\n",
       " 'jaw',\n",
       " 'monies',\n",
       " 'dissipated',\n",
       " 'gaming',\n",
       " 'carousing',\n",
       " 'More',\n",
       " 'confronted',\n",
       " 'gamblers',\n",
       " 'loan',\n",
       " 'sharks',\n",
       " 'gangsters',\n",
       " 'thugs',\n",
       " 'existed',\n",
       " 'repay',\n",
       " \"husband's\",\n",
       " 'staggering',\n",
       " 'losses',\n",
       " 'shuddered',\n",
       " 'sinister',\n",
       " 'strange',\n",
       " 'commonest',\n",
       " 'accents',\n",
       " 'telephoned',\n",
       " 'announce',\n",
       " 'sired',\n",
       " 'unborn',\n",
       " 'deepest',\n",
       " 'maternal',\n",
       " 'instincts',\n",
       " 'bled',\n",
       " 'darling',\n",
       " 'pink',\n",
       " 'bundles',\n",
       " 'heaven',\n",
       " 'proudly',\n",
       " 'Ah',\n",
       " 'ungallant',\n",
       " 'untrue',\n",
       " 'retort',\n",
       " 'abundantly',\n",
       " 'precious',\n",
       " 'wiser',\n",
       " 'summers',\n",
       " 'camp',\n",
       " 'Friends',\n",
       " 'irritable',\n",
       " 'neglected',\n",
       " 'anyhow',\n",
       " 'God',\n",
       " 'infinite',\n",
       " 'wisdom',\n",
       " 'wants',\n",
       " 'inexplicable',\n",
       " 'lapses',\n",
       " 'memory',\n",
       " 'works',\n",
       " 'Yet',\n",
       " 'adored',\n",
       " 'absences',\n",
       " 'coldness',\n",
       " 'indifference',\n",
       " 'slights',\n",
       " 'humiliated',\n",
       " 'parties',\n",
       " 'Trianon',\n",
       " 'Suite',\n",
       " ...]"
      ]
     },
     "execution_count": 20,
     "metadata": {},
     "output_type": "execute_result"
    }
   ],
   "source": [
    "#hapaxes method\n",
    "#once in the text\n",
    "freqdistribution.hapaxes()"
   ]
  },
  {
   "cell_type": "code",
   "execution_count": 21,
   "metadata": {},
   "outputs": [
    {
     "data": {
      "text/plain": [
       "','"
      ]
     },
     "execution_count": 21,
     "metadata": {},
     "output_type": "execute_result"
    }
   ],
   "source": [
    "freqdistribution.max()"
   ]
  },
  {
   "cell_type": "code",
   "execution_count": 22,
   "metadata": {},
   "outputs": [
    {
     "data": {
      "text/plain": [
       "0.04286702005070293"
      ]
     },
     "execution_count": 22,
     "metadata": {},
     "output_type": "execute_result"
    }
   ],
   "source": [
    "freqdistribution.freq('the')"
   ]
  },
  {
   "cell_type": "code",
   "execution_count": 23,
   "metadata": {},
   "outputs": [
    {
     "data": {
      "text/plain": [
       "930"
      ]
     },
     "execution_count": 23,
     "metadata": {},
     "output_type": "execute_result"
    }
   ],
   "source": [
    "freqdistribution.get('the')"
   ]
  },
  {
   "cell_type": "code",
   "execution_count": 24,
   "metadata": {},
   "outputs": [
    {
     "data": {
      "text/plain": [
       "0.04286702005070293"
      ]
     },
     "execution_count": 24,
     "metadata": {},
     "output_type": "execute_result"
    }
   ],
   "source": [
    "#normalising\n",
    "930/21695"
   ]
  },
  {
   "cell_type": "code",
   "execution_count": 25,
   "metadata": {},
   "outputs": [],
   "source": [
    "#conditional  freq distribution\n",
    "l1={('cat1','good'),('cat2','bad'),('cat1','good')}"
   ]
  },
  {
   "cell_type": "code",
   "execution_count": 26,
   "metadata": {},
   "outputs": [
    {
     "data": {
      "text/plain": [
       "<ConditionalFreqDist with 2 conditions>"
      ]
     },
     "execution_count": 26,
     "metadata": {},
     "output_type": "execute_result"
    }
   ],
   "source": [
    "cfd=ConditionalFreqDist(l1)\n",
    "cfd"
   ]
  },
  {
   "cell_type": "code",
   "execution_count": 27,
   "metadata": {},
   "outputs": [
    {
     "data": {
      "text/plain": [
       "FreqDist({'good': 1})"
      ]
     },
     "execution_count": 27,
     "metadata": {},
     "output_type": "execute_result"
    }
   ],
   "source": [
    "cfd['cat1']"
   ]
  },
  {
   "cell_type": "code",
   "execution_count": 28,
   "metadata": {},
   "outputs": [
    {
     "name": "stdout",
     "output_type": "stream",
     "text": [
      "[nltk_data] Downloading package brown to\n",
      "[nltk_data]     C:\\Users\\Lenovo\\AppData\\Roaming\\nltk_data...\n",
      "[nltk_data]   Package brown is already up-to-date!\n",
      "                  can could   may might \n",
      "      adventure    46   151     5    58 \n",
      " belles_lettres   246   213   207   113 \n",
      "      editorial   121    56    74    39 \n",
      "        fiction    37   166     8    44 \n",
      "     government   117    38   153    13 \n",
      "        hobbies   268    58   131    22 \n",
      "          humor    16    30     8     8 \n",
      "        learned   365   159   324   128 \n",
      "           lore   170   141   165    49 \n",
      "        mystery    42   141    13    57 \n",
      "           news    93    86    66    38 \n",
      "       religion    82    59    78    12 \n",
      "        reviews    45    40    45    26 \n",
      "        romance    74   193    11    51 \n",
      "science_fiction    16    49     4    12 \n"
     ]
    }
   ],
   "source": [
    "nltk.download('brown')\n",
    "cfd=ConditionalFreqDist(\n",
    "    (genre,word)\n",
    "    for genre in brown.categories()\n",
    "    for word in brown.words(categories=genre))\n",
    "genres=['news','religion','hobbies']\n",
    "modals=['can','could','may','might']\n",
    "cfd.tabulate(condition=genres,samples=modals)"
   ]
  },
  {
   "cell_type": "code",
   "execution_count": 34,
   "metadata": {},
   "outputs": [
    {
     "name": "stdout",
     "output_type": "stream",
     "text": [
      "[nltk_data] Downloading package names to\n",
      "[nltk_data]     C:\\Users\\Lenovo\\AppData\\Roaming\\nltk_data...\n",
      "[nltk_data]   Package names is already up-to-date!\n"
     ]
    }
   ],
   "source": [
    "nltk.download('names')\n",
    "from nltk.corpus import names"
   ]
  },
  {
   "cell_type": "code",
   "execution_count": 36,
   "metadata": {},
   "outputs": [],
   "source": [
    "#hypothesis female name end with r than male names\n",
    "list_names=([('male',name[-1]) for name in names.words('male.txt')]+[('female',name[-1]) for name in names.words('female.txt')])"
   ]
  },
  {
   "cell_type": "code",
   "execution_count": 47,
   "metadata": {},
   "outputs": [],
   "source": [
    "cfd1=ConditionalFreqDist(list_names)"
   ]
  },
  {
   "cell_type": "code",
   "execution_count": 53,
   "metadata": {},
   "outputs": [
    {
     "data": {
      "text/plain": [
       "[('n', 478),\n",
       " ('e', 468),\n",
       " ('y', 332),\n",
       " ('s', 230),\n",
       " ('d', 228),\n",
       " ('r', 190),\n",
       " ('l', 187),\n",
       " ('o', 165),\n",
       " ('t', 164),\n",
       " ('h', 93),\n",
       " ('m', 70),\n",
       " ('k', 69),\n",
       " ('i', 50),\n",
       " ('g', 32),\n",
       " ('a', 29),\n",
       " ('f', 25),\n",
       " ('c', 25),\n",
       " ('b', 21),\n",
       " ('p', 18),\n",
       " ('w', 17),\n",
       " ('v', 16),\n",
       " ('u', 12),\n",
       " ('z', 11),\n",
       " ('x', 10),\n",
       " ('j', 3)]"
      ]
     },
     "execution_count": 53,
     "metadata": {},
     "output_type": "execute_result"
    }
   ],
   "source": [
    "cfd1['male'].most_common()"
   ]
  },
  {
   "cell_type": "code",
   "execution_count": 54,
   "metadata": {},
   "outputs": [
    {
     "data": {
      "image/png": "[encoded data removed]",
      "text/plain": [
       "<Figure size 432x288 with 1 Axes>"
      ]
     },
     "metadata": {},
     "output_type": "display_data"
    }
   ],
   "source": [
    "cfd.plot()\n"
   ]
  },
  {
   "cell_type": "code",
   "execution_count": 56,
   "metadata": {},
   "outputs": [],
   "source": [
    "#stemming\n",
    "#removing branches of words\n",
    "#getting root words\n",
    "#example :runnable,running,runner can be written as run\n",
    "#examples:peter likes to walk.He walked 4 miles appears twice\n",
    "#creates a feature for every word of walk\n",
    "\n",
    "from nltk.stem import PorterStemmer\n",
    "ptem=PorterStemmer()"
   ]
  },
  {
   "cell_type": "code",
   "execution_count": 57,
   "metadata": {},
   "outputs": [
    {
     "data": {
      "text/plain": [
       "'walk'"
      ]
     },
     "execution_count": 57,
     "metadata": {},
     "output_type": "execute_result"
    }
   ],
   "source": [
    "ptem.stem(\"walking\")"
   ]
  },
  {
   "cell_type": "code",
   "execution_count": 58,
   "metadata": {},
   "outputs": [],
   "source": [
    "from nltk.stem import LancasterStemmer"
   ]
  },
  {
   "cell_type": "code",
   "execution_count": 59,
   "metadata": {},
   "outputs": [],
   "source": [
    "lst=LancasterStemmer()"
   ]
  },
  {
   "cell_type": "code",
   "execution_count": 61,
   "metadata": {},
   "outputs": [
    {
     "data": {
      "text/plain": [
       "'maxim'"
      ]
     },
     "execution_count": 61,
     "metadata": {},
     "output_type": "execute_result"
    }
   ],
   "source": [
    "lst.stem('maximum')"
   ]
  },
  {
   "cell_type": "code",
   "execution_count": 62,
   "metadata": {},
   "outputs": [
    {
     "data": {
      "text/plain": [
       "'intellig'"
      ]
     },
     "execution_count": 62,
     "metadata": {},
     "output_type": "execute_result"
    }
   ],
   "source": [
    "lst.stem('intelligently')"
   ]
  },
  {
   "cell_type": "code",
   "execution_count": 63,
   "metadata": {},
   "outputs": [
    {
     "data": {
      "text/plain": [
       "'multiply'"
      ]
     },
     "execution_count": 63,
     "metadata": {},
     "output_type": "execute_result"
    }
   ],
   "source": [
    "lst.stem('multiply')"
   ]
  },
  {
   "cell_type": "code",
   "execution_count": 64,
   "metadata": {},
   "outputs": [],
   "source": [
    "from nltk.stem import RegexpStemmer"
   ]
  },
  {
   "cell_type": "code",
   "execution_count": 67,
   "metadata": {},
   "outputs": [],
   "source": [
    "#custom stemmer rule based stemming\n",
    "rex=RegexpStemmer(r'ing$|s$|e$|able$|')"
   ]
  },
  {
   "cell_type": "code",
   "execution_count": 68,
   "metadata": {},
   "outputs": [
    {
     "data": {
      "text/plain": [
       "'controll'"
      ]
     },
     "execution_count": 68,
     "metadata": {},
     "output_type": "execute_result"
    }
   ],
   "source": [
    "rex.stem('controllable')"
   ]
  },
  {
   "cell_type": "code",
   "execution_count": 69,
   "metadata": {},
   "outputs": [
    {
     "data": {
      "text/plain": [
       "'good'"
      ]
     },
     "execution_count": 69,
     "metadata": {},
     "output_type": "execute_result"
    }
   ],
   "source": [
    "lst.stem('good')"
   ]
  },
  {
   "cell_type": "code",
   "execution_count": 70,
   "metadata": {},
   "outputs": [],
   "source": [
    "#lemmatization\n",
    "#lemmatizers\n",
    "#good better best understand meaning of the word and remove the branch words\n",
    "#uses wordNet corpus\n",
    "#map the meaning with thesaurus word\n",
    "#hierarchy of meaning\n",
    "#all possible meaning\n",
    "\n"
   ]
  },
  {
   "cell_type": "code",
   "execution_count": 75,
   "metadata": {},
   "outputs": [
    {
     "name": "stdout",
     "output_type": "stream",
     "text": [
      "[nltk_data] Downloading package wordnet to\n",
      "[nltk_data]     C:\\Users\\Lenovo\\AppData\\Roaming\\nltk_data...\n",
      "[nltk_data]   Unzipping corpora\\wordnet.zip.\n"
     ]
    }
   ],
   "source": [
    "nltk.download('wordnet')\n",
    "from nltk.corpus import wordnet as wn"
   ]
  },
  {
   "cell_type": "code",
   "execution_count": 76,
   "metadata": {},
   "outputs": [
    {
     "data": {
      "text/plain": [
       "[Synset('spoke.n.01'),\n",
       " Synset('rundle.n.01'),\n",
       " Synset('talk.v.02'),\n",
       " Synset('talk.v.01'),\n",
       " Synset('speak.v.03'),\n",
       " Synset('address.v.02'),\n",
       " Synset('speak.v.05')]"
      ]
     },
     "execution_count": 76,
     "metadata": {},
     "output_type": "execute_result"
    }
   ],
   "source": [
    "wn.synsets('spoke')"
   ]
  },
  {
   "cell_type": "code",
   "execution_count": 79,
   "metadata": {},
   "outputs": [
    {
     "data": {
      "text/plain": [
       "[Synset('example.n.01'),\n",
       " Synset('model.n.07'),\n",
       " Synset('exemplar.n.01'),\n",
       " Synset('example.n.04'),\n",
       " Synset('case.n.01'),\n",
       " Synset('exercise.n.04')]"
      ]
     },
     "execution_count": 79,
     "metadata": {},
     "output_type": "execute_result"
    }
   ],
   "source": [
    "wn.synsets('example')"
   ]
  },
  {
   "cell_type": "code",
   "execution_count": 82,
   "metadata": {},
   "outputs": [
    {
     "data": {
      "text/plain": [
       "['We often talk business', 'Actions talk louder than words']"
      ]
     },
     "execution_count": 82,
     "metadata": {},
     "output_type": "execute_result"
    }
   ],
   "source": [
    "wn.synset('talk.v.01').examples()"
   ]
  },
  {
   "cell_type": "code",
   "execution_count": 84,
   "metadata": {},
   "outputs": [
    {
     "name": "stdout",
     "output_type": "stream",
     "text": [
      "Synset('spoke.n.01') : ['spoke', 'wheel_spoke', 'radius']\n",
      "Synset('rundle.n.01') : ['rundle', 'spoke', 'rung']\n",
      "Synset('talk.v.02') : ['talk', 'speak', 'utter', 'mouth', 'verbalize', 'verbalise']\n",
      "Synset('talk.v.01') : ['talk', 'speak']\n",
      "Synset('speak.v.03') : ['speak', 'talk']\n",
      "Synset('address.v.02') : ['address', 'speak']\n",
      "Synset('speak.v.05') : ['speak']\n"
     ]
    }
   ],
   "source": [
    "for s in wn.synsets('spoke'):\n",
    "    print(s,\":\",s.lemma_names())"
   ]
  },
  {
   "cell_type": "code",
   "execution_count": 86,
   "metadata": {},
   "outputs": [],
   "source": [
    "from nltk.stem import WordNetLemmatizer"
   ]
  },
  {
   "cell_type": "code",
   "execution_count": 87,
   "metadata": {},
   "outputs": [],
   "source": [
    "wnl=WordNetLemmatizer()"
   ]
  },
  {
   "cell_type": "code",
   "execution_count": 91,
   "metadata": {},
   "outputs": [
    {
     "data": {
      "text/plain": [
       "'run'"
      ]
     },
     "execution_count": 91,
     "metadata": {},
     "output_type": "execute_result"
    }
   ],
   "source": [
    "wnl.lemmatize('running','v')"
   ]
  },
  {
   "cell_type": "code",
   "execution_count": 92,
   "metadata": {},
   "outputs": [
    {
     "data": {
      "text/plain": [
       "'bad'"
      ]
     },
     "execution_count": 92,
     "metadata": {},
     "output_type": "execute_result"
    }
   ],
   "source": [
    "wnl.lemmatize('worst','a')"
   ]
  },
  {
   "cell_type": "code",
   "execution_count": 93,
   "metadata": {},
   "outputs": [],
   "source": [
    "#tokenization\n",
    "#tokenizing into sentence and words\n",
    "from nltk.tokenize import word_tokenize,sent_tokenize\n"
   ]
  },
  {
   "cell_type": "code",
   "execution_count": 99,
   "metadata": {},
   "outputs": [
    {
     "data": {
      "text/plain": [
       "['austen-emma.txt',\n",
       " 'austen-persuasion.txt',\n",
       " 'austen-sense.txt',\n",
       " 'bible-kjv.txt',\n",
       " 'blake-poems.txt',\n",
       " 'bryant-stories.txt',\n",
       " 'burgess-busterbrown.txt',\n",
       " 'carroll-alice.txt',\n",
       " 'chesterton-ball.txt',\n",
       " 'chesterton-brown.txt',\n",
       " 'chesterton-thursday.txt',\n",
       " 'edgeworth-parents.txt',\n",
       " 'melville-moby_dick.txt',\n",
       " 'milton-paradise.txt',\n",
       " 'shakespeare-caesar.txt',\n",
       " 'shakespeare-hamlet.txt',\n",
       " 'shakespeare-macbeth.txt',\n",
       " 'whitman-leaves.txt']"
      ]
     },
     "execution_count": 99,
     "metadata": {},
     "output_type": "execute_result"
    }
   ],
   "source": [
    "gutenberg.fileids()"
   ]
  },
  {
   "cell_type": "code",
   "execution_count": 100,
   "metadata": {},
   "outputs": [],
   "source": [
    "r=gutenberg.raw(['austen-emma.txt'])"
   ]
  },
  {
   "cell_type": "code",
   "execution_count": 104,
   "metadata": {},
   "outputs": [
    {
     "data": {
      "text/plain": [
       "'Emma Woodhouse, handsome, clever, and rich, with a comfortable home\\nand happy disposition, seemed to unite some of the best blessings\\nof existence; and had lived nearly twenty-one years in the world\\nwith very little to distress or vex her.\\n\\nShe was the youngest of the two daughters of a most affectionate,\\nindulgent father; and had, in consequence o'"
      ]
     },
     "execution_count": 104,
     "metadata": {},
     "output_type": "execute_result"
    }
   ],
   "source": [
    "em=r[50:400]\n",
    "em"
   ]
  },
  {
   "cell_type": "code",
   "execution_count": 105,
   "metadata": {},
   "outputs": [],
   "source": [
    "s=sent_tokenize(em)"
   ]
  },
  {
   "cell_type": "code",
   "execution_count": 106,
   "metadata": {},
   "outputs": [
    {
     "data": {
      "text/plain": [
       "2"
      ]
     },
     "execution_count": 106,
     "metadata": {},
     "output_type": "execute_result"
    }
   ],
   "source": [
    "len(s)"
   ]
  },
  {
   "cell_type": "code",
   "execution_count": 107,
   "metadata": {},
   "outputs": [
    {
     "data": {
      "text/plain": [
       "['Emma Woodhouse, handsome, clever, and rich, with a comfortable home\\nand happy disposition, seemed to unite some of the best blessings\\nof existence; and had lived nearly twenty-one years in the world\\nwith very little to distress or vex her.',\n",
       " 'She was the youngest of the two daughters of a most affectionate,\\nindulgent father; and had, in consequence o']"
      ]
     },
     "execution_count": 107,
     "metadata": {},
     "output_type": "execute_result"
    }
   ],
   "source": [
    "s"
   ]
  },
  {
   "cell_type": "code",
   "execution_count": 112,
   "metadata": {},
   "outputs": [],
   "source": [
    "s1=em.split('.')"
   ]
  },
  {
   "cell_type": "code",
   "execution_count": 114,
   "metadata": {},
   "outputs": [
    {
     "data": {
      "text/plain": [
       "'Emma Woodhouse, handsome, clever, and rich, with a comfortable home\\nand happy disposition, seemed to unite some of the best blessings\\nof existence; and had lived nearly twenty-one years in the world\\nwith very little to distress or vex her'"
      ]
     },
     "execution_count": 114,
     "metadata": {},
     "output_type": "execute_result"
    }
   ],
   "source": [
    "s1[0]\n",
    "#using split sometimes split sentence if there is abbreviation\n",
    "#example C.B.I"
   ]
  },
  {
   "cell_type": "code",
   "execution_count": 116,
   "metadata": {},
   "outputs": [
    {
     "data": {
      "text/plain": [
       "['Emma',\n",
       " 'Woodhouse',\n",
       " ',',\n",
       " 'handsome',\n",
       " ',',\n",
       " 'clever',\n",
       " ',',\n",
       " 'and',\n",
       " 'rich',\n",
       " ',',\n",
       " 'with',\n",
       " 'a',\n",
       " 'comfortable',\n",
       " 'home',\n",
       " 'and',\n",
       " 'happy',\n",
       " 'disposition',\n",
       " ',',\n",
       " 'seemed',\n",
       " 'to',\n",
       " 'unite',\n",
       " 'some',\n",
       " 'of',\n",
       " 'the',\n",
       " 'best',\n",
       " 'blessings',\n",
       " 'of',\n",
       " 'existence',\n",
       " ';',\n",
       " 'and',\n",
       " 'had',\n",
       " 'lived',\n",
       " 'nearly',\n",
       " 'twenty-one',\n",
       " 'years',\n",
       " 'in',\n",
       " 'the',\n",
       " 'world',\n",
       " 'with',\n",
       " 'very',\n",
       " 'little',\n",
       " 'to',\n",
       " 'distress',\n",
       " 'or',\n",
       " 'vex',\n",
       " 'her']"
      ]
     },
     "execution_count": 116,
     "metadata": {},
     "output_type": "execute_result"
    }
   ],
   "source": [
    "w1=word_tokenize(s1[0])\n",
    "w1"
   ]
  },
  {
   "cell_type": "markdown",
   "metadata": {},
   "source": [
    "<h2>:-)</h2>\n"
   ]
  },
  {
   "cell_type": "code",
   "execution_count": null,
   "metadata": {},
   "outputs": [],
   "source": []
  }
 ],
 "metadata": {
  "kernelspec": {
   "display_name": "Python 3",
   "language": "python",
   "name": "python3"
  },
  "language_info": {
   "codemirror_mode": {
    "name": "ipython",
    "version": 3
   },
   "file_extension": ".py",
   "mimetype": "text/x-python",
   "name": "python",
   "nbconvert_exporter": "python",
   "pygments_lexer": "ipython3",
   "version": "3.6.5"
  }
 },
 "nbformat": 4,
 "nbformat_minor": 2
}
